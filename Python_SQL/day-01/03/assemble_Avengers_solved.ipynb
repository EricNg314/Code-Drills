{
 "cells": [
  {
   "cell_type": "code",
   "execution_count": 1,
   "metadata": {},
   "outputs": [],
   "source": [
    "# Define the Avenger class\n",
    "class Avenger():\n",
    "    # Constructor\n",
    "    # --------------------------------------------------------------------------------\n",
    "    # Initialize the Avenger with properties and assign each avenger a new avenger count upon creation\n",
    "    def __init__(self, name, enemy, location, catchphrase):\n",
    "        self.name = name\n",
    "        self.enemy = enemy\n",
    "        self.location = location\n",
    "        self.catchphrase = catchphrase\n",
    "    \n",
    "    # Class Methods\n",
    "    # --------------------------------------------------------------------------------\n",
    "    # Prints out simple string\n",
    "    def assemble(self):\n",
    "        print(\"Avengers Assemble!\")\n",
    "\n",
    "    # Interpolates based on their attributes. \n",
    "    # Example: Hey! I'm Spiderman and I'm from New York. I am currently fighting the Green Goblin. Spidey Senses Tingling!\n",
    "    def info(self):\n",
    "        print(f\"Hey I'm {self.name} and I'm from {self.location}. I am currently fighting {self.enemy}. {self.catchphrase}!\")"
   ]
  },
  {
   "cell_type": "code",
   "execution_count": 2,
   "metadata": {},
   "outputs": [
    {
     "name": "stdout",
     "output_type": "stream",
     "text": [
      "Avengers Assemble!\n",
      "Hey I'm Captain America and I'm from Brooklyn. I am currently fighting Hydra. I can do this all day!\n"
     ]
    }
   ],
   "source": [
    "# ASSEMBLE AVENGERS!\n",
    "# Create the First Avenger, Captain America and call his methods\n",
    "first_avenger = Avenger('Captain America', 'Hydra', 'Brooklyn', 'I can do this all day')\n",
    "first_avenger.assemble()\n",
    "first_avenger.info()"
   ]
  },
  {
   "cell_type": "code",
   "execution_count": 3,
   "metadata": {},
   "outputs": [
    {
     "name": "stdout",
     "output_type": "stream",
     "text": [
      "Avengers Assemble!\n",
      "Hey I'm Thor and I'm from Asgard. I am currently fighting Thanos. Bring me another!\n"
     ]
    }
   ],
   "source": [
    "# Create another Avenger, preferably Thor, but whoever you like. I just like Thor.\n",
    "thor = Avenger ('Thor', \"Thanos\", \"Asgard\", \"Bring me another\")\n",
    "thor.assemble()\n",
    "thor.info()"
   ]
  },
  {
   "cell_type": "code",
   "execution_count": null,
   "metadata": {},
   "outputs": [],
   "source": [
    "# Create a for loop for user input that creates new Avenger\n",
    "\n",
    "# Variable to keep track of changes to while loop\n",
    "go = True\n",
    "\n",
    "# While loop runs so long as go is True\n",
    "while go:\n",
    "\n",
    "  # Ask for user input and store answers within variables\n",
    "  name = input(\"Who is the Avenger? \")\n",
    "  enemy = input(\"Who is their archenemy? \")\n",
    "  location = input(\"Where are they from?  \")\n",
    "  catchphrase = input(\"What is their catchphrase? \")  \n",
    "  \n",
    "  # Create a new instance of the Avenger class using these values\n",
    "  new_avenger = Avenger(name, enemy, location, catchphrase)\n",
    "\n",
    "  # Call the Avenger's methods\n",
    "  new_avenger.assemble()\n",
    "  new_avenger.info()\n",
    "\n",
    "  # Check to see if the user would like to continue\n",
    "  check = input(\"Would you like to continue? (y/n) \")\n",
    "  if(check.lower() == \"y\"):\n",
    "    go = True\n",
    "  else:\n",
    "    go = False"
   ]
  }
 ],
 "metadata": {
  "kernelspec": {
   "display_name": "Python [conda env:PythonData]",
   "language": "python",
   "name": "conda-env-PythonData-py"
  },
  "language_info": {
   "codemirror_mode": {
    "name": "ipython",
    "version": 3
   },
   "file_extension": ".py",
   "mimetype": "text/x-python",
   "name": "python",
   "nbconvert_exporter": "python",
   "pygments_lexer": "ipython3",
   "version": "3.6.5"
  }
 },
 "nbformat": 4,
 "nbformat_minor": 2
}
