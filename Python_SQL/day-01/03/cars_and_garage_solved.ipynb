{
 "cells": [
  {
   "cell_type": "code",
   "execution_count": 1,
   "metadata": {},
   "outputs": [],
   "source": [
    "# Import your dependencies:\n",
    "\n",
    "# Import the method used for connecting to DBs from sqlalchemy\n",
    "from sqlalchemy import create_engine\n",
    "\n",
    "# Import the declarative_base needed to abstract classes into tables from sqlalchemy\n",
    "from sqlalchemy.ext.declarative import declarative_base\n",
    "\n",
    "# Allow us to declare column types from sqlalchemy\n",
    "    # You'll need column, integer, string, float, and foreignkey\n",
    "from sqlalchemy import Column, Integer, String, Float, ForeignKey \n"
   ]
  },
  {
   "cell_type": "code",
   "execution_count": 2,
   "metadata": {},
   "outputs": [],
   "source": [
    "# Using create_engine, create a sqlite Database in the current folder\n",
    "engine = create_engine(\"sqlite:///garage_and_cars.sqlite\")\n",
    "\n",
    "# Then assign a variable called \"conn\" as a connection to your database\n",
    "conn = engine.connect()"
   ]
  },
  {
   "cell_type": "code",
   "execution_count": 3,
   "metadata": {},
   "outputs": [],
   "source": [
    "# Create Garage and Car Classes\n",
    "# ----------------------------------\n",
    "\n",
    "# Create a variable \"Base\" and set it to the declarative_base function from SQLAlchemy\n",
    "Base = declarative_base()\n",
    "\n",
    "\n",
    "# Create Classes which will serve as the anchor points for our Tables\n",
    "    # Garage table should contain id as a primary key, windows, color, and car slots\n",
    "    # Car table should contain id as a primary key, make, model, color, milage, garage_id as a foreign key to garage's id\n",
    "\n",
    "class Garage(Base):\n",
    "    __tablename__ = 'garage'\n",
    "    id = Column(Integer, primary_key=True)\n",
    "    windows = Column(Integer)\n",
    "    color = Column(String(255))\n",
    "    carSlots = Column(Integer)\n",
    "\n",
    "class Car(Base):\n",
    "    __tablename__ = 'car'\n",
    "    id = Column(Integer, primary_key=True)\n",
    "    make = Column(String(255))\n",
    "    model = Column(String(255))\n",
    "    color = Column(String(255))\n",
    "    milage = Column(Integer)\n",
    "    garage_id = Column(Integer, ForeignKey('garage.id'))"
   ]
  },
  {
   "cell_type": "code",
   "execution_count": 4,
   "metadata": {},
   "outputs": [],
   "source": [
    "# Drop the database if it exists.\n",
    "Base.metadata.drop_all(engine)\n",
    "\n",
    "# Create a Metadata layer that abstracts from our SQL database with our above classes.\n",
    "Base.metadata.create_all(engine)\n"
   ]
  },
  {
   "cell_type": "code",
   "execution_count": 5,
   "metadata": {},
   "outputs": [],
   "source": [
    "# import Session from sqlalchemy's orm method\n",
    "# Create a session object to connect to your database\n",
    "from sqlalchemy.orm import Session\n",
    "session = Session(bind=engine)"
   ]
  },
  {
   "cell_type": "code",
   "execution_count": 6,
   "metadata": {},
   "outputs": [],
   "source": [
    "# Create specific instances of Garage and Car classes.\n",
    "# Creating a variable \"garage\" with the Garage class\n",
    "    # Add any type of values to your garage table\n",
    "garage = Garage(windows=4, color='green', carSlots=2)\n",
    "\n",
    "\n",
    "# Create a variable \"car1\" with the Car class\n",
    "    # Add any type of values to your car table\n",
    "car1 = Car(make='Toyota', model='Camry', color='black', milage='300000', garage_id=1 )\n",
    "\n",
    "\n",
    "# Create a variable \"car2\" with the Car class\n",
    "    # Add any type of values to your car table\n",
    "car2 = Car(make='BMW', model='X6', color='gold', milage='500', garage_id=1 )"
   ]
  },
  {
   "cell_type": "code",
   "execution_count": 7,
   "metadata": {},
   "outputs": [],
   "source": [
    "# Insert the garage and cars you made to the database using session's add and commit methods.\n",
    "    # Note: If the database was created and classes/tables were later updated, \n",
    "        # you may run into errors for example column does not exist.\n",
    "        # You'll need to use the following line to drop your database \n",
    "            # and start by creating classes again.\n",
    "        # Base.metadata.drop_all(engine)\n",
    "session.add(garage)\n",
    "session.add(car1)\n",
    "session.add(car2)\n",
    "session.commit()"
   ]
  },
  {
   "cell_type": "code",
   "execution_count": 8,
   "metadata": {},
   "outputs": [
    {
     "name": "stdout",
     "output_type": "stream",
     "text": [
      "Garage ID: 1, Windows: 4, Color: green, Car Slots: 2\n"
     ]
    }
   ],
   "source": [
    "# Create a variable called \"garage_list\" and set it to the query of Garage.\n",
    "garage_list = session.query(Garage)\n",
    "\n",
    "# Print the garage(s) in your garage_list\n",
    "    # In your print, include values such as garage id, number of windows, and color\n",
    "for garage in garage_list:\n",
    "    print(f\"Garage ID: {garage.id}, Windows: {garage.windows}, Color: {garage.color}, Car Slots: {garage.carSlots}\")\n"
   ]
  },
  {
   "cell_type": "code",
   "execution_count": 9,
   "metadata": {},
   "outputs": [
    {
     "name": "stdout",
     "output_type": "stream",
     "text": [
      "Car's garage ID: 1 Car Make: Toyota, Model: Camry, Color: black, Milage: 300000\n",
      "Car's garage ID: 1 Car Make: BMW, Model: X6, Color: gold, Milage: 500\n"
     ]
    }
   ],
   "source": [
    "# Create a variable called \"car_list\" and set it to the query of Car.\n",
    "car_list = session.query(Car)\n",
    "\n",
    "# Print the car(s) in your car_list\n",
    "    # In your print, include details of the car such as garage id, make, model, and color\n",
    "for car in car_list:\n",
    "    print(f\"Car's garage ID: {car.garage_id} Car Make: {car.make}, Model: {car.model}, Color: {car.color}, Milage: {car.milage}\")"
   ]
  },
  {
   "cell_type": "code",
   "execution_count": null,
   "metadata": {},
   "outputs": [],
   "source": []
  }
 ],
 "metadata": {
  "kernelspec": {
   "display_name": "Python 3",
   "language": "python",
   "name": "python3"
  },
  "language_info": {
   "codemirror_mode": {
    "name": "ipython",
    "version": 3
   },
   "file_extension": ".py",
   "mimetype": "text/x-python",
   "name": "python",
   "nbconvert_exporter": "python",
   "pygments_lexer": "ipython3",
   "version": "3.6.5"
  }
 },
 "nbformat": 4,
 "nbformat_minor": 2
}
