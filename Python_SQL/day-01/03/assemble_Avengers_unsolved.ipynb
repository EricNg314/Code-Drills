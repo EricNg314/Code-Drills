{
 "cells": [
  {
   "cell_type": "code",
   "execution_count": 1,
   "metadata": {},
   "outputs": [],
   "source": [
    "# Define the Avenger class\n",
    "class Avenger():\n",
    "    # Constructor\n",
    "    # --------------------------------------------------------------------------------\n",
    "    # Initialize the Avenger with properties and assign each avenger a new avenger count upon creation\n",
    "\n",
    "    \n",
    "    # Class Methods\n",
    "    # --------------------------------------------------------------------------------\n",
    "    # Method that prints out a simple string\n",
    "    \n",
    "    # Method that interpolates based on information and prints in a string\n",
    "    # Example: Hey! I'm Spiderman and I'm from New York. I am currently fighting the Green Goblin. Spidey Senses Tingling!\n"
   ]
  },
  {
   "cell_type": "code",
   "execution_count": 2,
   "metadata": {},
   "outputs": [
    {
     "name": "stdout",
     "output_type": "stream",
     "text": [
      "Avengers Assemble!\n",
      "Hey I'm Captain America and I'm from Brooklyn. I am currently fighting Hydra. I can do this all day!\n"
     ]
    }
   ],
   "source": [
    "# ASSEMBLE AVENGERS!\n",
    "# Create the First Avenger, Captain America and call his methods"
   ]
  },
  {
   "cell_type": "code",
   "execution_count": 3,
   "metadata": {},
   "outputs": [
    {
     "name": "stdout",
     "output_type": "stream",
     "text": [
      "Avengers Assemble!\n",
      "Hey I'm Thor and I'm from Asgard. I am currently fighting Thanos. Bring me another!\n"
     ]
    }
   ],
   "source": [
    "# Create another Avenger, preferably Thor, but whoever you like. I just like Thor."
   ]
  },
  {
   "cell_type": "code",
   "execution_count": null,
   "metadata": {},
   "outputs": [],
   "source": [
    "# Create a for loop for user input that creates new Avenger\n",
    "# Variable to keep track of changes to while loop\n",
    "go = True\n",
    "# While loop to runs\n",
    "  # Ask for user input and store answers within variables\n",
    "  # Create a new instance of the Avenger class using these values\n",
    "  # Call the Avenger's methods\n",
    "  # Check to see if the user would like to continue\n"
   ]
  }
 ],
 "metadata": {
  "kernelspec": {
   "display_name": "Python [conda env:PythonData]",
   "language": "python",
   "name": "conda-env-PythonData-py"
  },
  "language_info": {
   "codemirror_mode": {
    "name": "ipython",
    "version": 3
   },
   "file_extension": ".py",
   "mimetype": "text/x-python",
   "name": "python",
   "nbconvert_exporter": "python",
   "pygments_lexer": "ipython3",
   "version": "3.6.5"
  }
 },
 "nbformat": 4,
 "nbformat_minor": 2
}
