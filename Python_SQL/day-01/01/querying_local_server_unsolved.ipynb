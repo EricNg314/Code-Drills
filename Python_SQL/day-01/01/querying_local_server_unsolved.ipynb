{
 "cells": [
  {
   "cell_type": "code",
   "execution_count": 1,
   "metadata": {},
   "outputs": [],
   "source": [
    "# Import Pandas\n",
    "\n",
    "\n",
    "# Import the create_engine method used for connecting to DBs from sqlalchemy\n",
    "\n",
    "\n",
    "# Import PyMySQL \n",
    "\n"
   ]
  },
  {
   "cell_type": "code",
   "execution_count": null,
   "metadata": {},
   "outputs": [],
   "source": [
    "# Create a variable \"conn\" and set it to a connection to one of your local mysql database.\n",
    "\n",
    "# Using mail_values_db from previous code drill from SQL. OR use your own database and modify the query.\n",
    "\n",
    "# Either make a connection using pymysql's connect method or sqlalchemy's create_engine method.\n",
    "\n",
    "\n",
    "\n",
    "\n"
   ]
  },
  {
   "cell_type": "code",
   "execution_count": 3,
   "metadata": {},
   "outputs": [],
   "source": [
    "# Create a variable \"data\" and set it to the query of all Records in one of your tables in the Database\n",
    "    # Use panda's read_sql method.\n"
   ]
  },
  {
   "cell_type": "code",
   "execution_count": 4,
   "metadata": {},
   "outputs": [
    {
     "name": "stdout",
     "output_type": "stream",
     "text": [
      "   AddressId  PersonId           City       State  Avg_Price\n",
      "0          1         1       San Jose  California     100000\n",
      "1          2         2        Oakland  California     800000\n",
      "2          3         4        Oakland  California     800000\n",
      "3          4         5       Richmond  California     750000\n",
      "4          5         7  San Francisco  California     200000\n"
     ]
    }
   ],
   "source": [
    "# Print the data variable.\n"
   ]
  },
  {
   "cell_type": "code",
   "execution_count": null,
   "metadata": {},
   "outputs": [],
   "source": []
  }
 ],
 "metadata": {
  "kernelspec": {
   "display_name": "Python 3",
   "language": "python",
   "name": "python3"
  },
  "language_info": {
   "codemirror_mode": {
    "name": "ipython",
    "version": 3
   },
   "file_extension": ".py",
   "mimetype": "text/x-python",
   "name": "python",
   "nbconvert_exporter": "python",
   "pygments_lexer": "ipython3",
   "version": "3.6.5"
  }
 },
 "nbformat": 4,
 "nbformat_minor": 2
}
