{
 "cells": [
  {
   "cell_type": "code",
   "execution_count": 1,
   "metadata": {},
   "outputs": [],
   "source": [
    "# Import SQL Alchemy\n",
    "from sqlalchemy import create_engine\n",
    "\n",
    "# Import and establish Base for which classes will be constructed \n",
    "from sqlalchemy.ext.declarative import declarative_base\n",
    "Base = declarative_base()\n",
    "\n",
    "# Import modules to declare columns and column data types\n",
    "from sqlalchemy import Column, Integer, String, Float"
   ]
  },
  {
   "cell_type": "code",
   "execution_count": 2,
   "metadata": {},
   "outputs": [],
   "source": [
    "# Create a Princess class\n",
    "class Princess(Base):\n",
    "    __tablename__ = 'disney_princesses'\n",
    "    id = Column(Integer, primary_key=True)\n",
    "    name = Column(String(255))\n",
    "    sidekick = Column(String(255))\n",
    "    coolness = Column(Float)\n"
   ]
  },
  {
   "cell_type": "code",
   "execution_count": 3,
   "metadata": {},
   "outputs": [],
   "source": [
    "# Create a connection to a SQLite database\n",
    "engine = create_engine('sqlite:///princess.db')\n"
   ]
  },
  {
   "cell_type": "code",
   "execution_count": 4,
   "metadata": {},
   "outputs": [],
   "source": [
    "# Create the disney_princesses table within the database\n",
    "Base.metadata.create_all(engine)"
   ]
  },
  {
   "cell_type": "code",
   "execution_count": 5,
   "metadata": {},
   "outputs": [],
   "source": [
    "# push the objects made and query the server using a Session object\n",
    "from sqlalchemy.orm import Session\n",
    "session = Session(bind=engine)"
   ]
  },
  {
   "cell_type": "code",
   "execution_count": 6,
   "metadata": {},
   "outputs": [],
   "source": [
    "# Create at least 3 instances of the Princess class\n",
    "princess_1 = Princess(name = \"Mulan\", sidekick = \"Mushu\", coolness = 99)\n",
    "princess_2 = Princess(name = \"Ariel\", sidekick = \"Flounder\", coolness = 85)\n",
    "princess_3 = Princess(name = \"Moana\", sidekick = \"Hei Hei\", coolness = 99)\n",
    "princess_4 = Princess(name = \"Rapunzel\", sidekick = \"Pascal\", coolness = 89)"
   ]
  },
  {
   "cell_type": "code",
   "execution_count": 7,
   "metadata": {},
   "outputs": [],
   "source": [
    "# Add these objects to the session\n",
    "session.add(princess_1)\n",
    "session.add(princess_2)\n",
    "session.add(princess_3)\n",
    "session.add(princess_4)\n",
    "# Commit the objects to the database\n",
    "session.commit()"
   ]
  },
  {
   "cell_type": "code",
   "execution_count": 8,
   "metadata": {},
   "outputs": [],
   "source": [
    "# Update the data so that Mulan's coolness is now 100 and Moana's sidekick is Pua\n",
    "query = session.query(Princess)\n",
    "\n",
    "update_one = query.filter(Princess.id == 1).first()\n",
    "update_one.coolness = 100\n",
    "update_two = query.filter(Princess.id == 3).first()\n",
    "update_two.sidekick = \"Pua\"\n",
    "# Commit the updates to the database\n",
    "session.commit()"
   ]
  },
  {
   "cell_type": "code",
   "execution_count": 9,
   "metadata": {},
   "outputs": [],
   "source": [
    "# Delete the row with the lowest coolness\n",
    "query.filter(Princess.id == 2).delete\n",
    "# Commit the delete to the database\n",
    "session.commit()"
   ]
  },
  {
   "cell_type": "code",
   "execution_count": 10,
   "metadata": {},
   "outputs": [
    {
     "name": "stdout",
     "output_type": "stream",
     "text": [
      "Name: Mulan\n",
      "Sidekick: Mushu\n",
      "Coolness: 100.0\n",
      "\n",
      "Name: Ariel\n",
      "Sidekick: Flounder\n",
      "Coolness: 85.0\n",
      "\n",
      "Name: Moana\n",
      "Sidekick: Pua\n",
      "Coolness: 99.0\n",
      "\n",
      "Name: Rapunzel\n",
      "Sidekick: Pascal\n",
      "Coolness: 89.0\n",
      "\n"
     ]
    }
   ],
   "source": [
    "# Collect all of the items and print their information\n",
    "for princess in query:\n",
    "    print(f\"Name: {princess.name}\\nSidekick: {princess.sidekick}\\nCoolness: {princess.coolness}\\n\")\n"
   ]
  }
 ],
 "metadata": {
  "kernelspec": {
   "display_name": "Python [conda env:PythonData]",
   "language": "python",
   "name": "conda-env-PythonData-py"
  },
  "language_info": {
   "codemirror_mode": {
    "name": "ipython",
    "version": 3
   },
   "file_extension": ".py",
   "mimetype": "text/x-python",
   "name": "python",
   "nbconvert_exporter": "python",
   "pygments_lexer": "ipython3",
   "version": "3.6.5"
  }
 },
 "nbformat": 4,
 "nbformat_minor": 2
}
