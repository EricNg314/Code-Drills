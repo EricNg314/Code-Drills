{
 "cells": [
  {
   "cell_type": "code",
   "execution_count": 1,
   "metadata": {},
   "outputs": [],
   "source": [
    "from sqlalchemy import create_engine\n",
    "import pymysql\n",
    "pymysql.install_as_MySQLdb()\n",
    "\n",
    "from sqlalchemy.ext.declarative import declarative_base\n",
    "Base = declarative_base()\n",
    "from sqlalchemy import Column, Integer, String, Float\n",
    "\n",
    "from config import dbuser, dbpasswd, dburi, dbport, dbname"
   ]
  },
  {
   "cell_type": "code",
   "execution_count": 2,
   "metadata": {},
   "outputs": [],
   "source": [
    "from sqlalchemy import create_engine\n",
    "engine = create_engine(f\"mysql://{dbuser}:{dbpasswd}@{dburi}:{dbport}/{dbname}\")\n",
    "Base.metadata.create_all(engine)"
   ]
  },
  {
   "cell_type": "code",
   "execution_count": 3,
   "metadata": {},
   "outputs": [],
   "source": [
    "from sqlalchemy.orm import Session\n",
    "session = Session(bind=engine)"
   ]
  },
  {
   "cell_type": "code",
   "execution_count": 4,
   "metadata": {},
   "outputs": [],
   "source": [
    "# create your Restaurants class\n",
    "class Restaurants(Base):\n",
    "    __tablename__ = 'restaurants'\n",
    "    business_id = Column(Integer, primary_key=True)\n",
    "    business_name = Column(String)\n",
    "    business_address = Column(String)\n",
    "    business_postal_code = Column(Integer)\n",
    "    inspection_score = Column(Integer)\n",
    "    violation_description = Column(String)\n",
    "    risk_category = Column(String)"
   ]
  },
  {
   "cell_type": "code",
   "execution_count": 5,
   "metadata": {},
   "outputs": [
    {
     "name": "stdout",
     "output_type": "stream",
     "text": [
      "170 O'Farrell St Basement\n",
      "495A CASTRO St\n",
      "570 Powell St\n",
      "0530 BALBOA St\n",
      "345 Stockton St Flr 3B\n",
      "170 O'Farrell St 8th Floor\n",
      "22 Peace Plaza  #505\n",
      "737 DIAMOND St\n",
      "1515 SLOAT Blvd\n",
      "625  DOUGLASS St\n",
      "460 Arguello Blvd\n",
      "641 Broadway St\n",
      "741 Diamond St\n",
      "1 Ferry Building  #28\n",
      "2340 Jackson St\n",
      "18 Ocean Ave.\n",
      "349 Clement St.\n",
      "1300 CASTRO St\n",
      "3901 Noriega Street\n",
      "500 Eddy St\n",
      "1682 Post St\n",
      "1704 Post St\n",
      "170 O'Farrell St Lower Level\n",
      "499 Eddy St\n",
      "0427 CASTRO St\n",
      "1708 Haight St\n",
      "2990 MISSION St\n",
      "345 Stockton St Flr 2B\n",
      "425 Battery St\n",
      "170 O'Farrell St Basement\n",
      "333 Battery St Level A & B\n",
      "333 Battery St Level 2 & 3\n",
      "564 Market St #140\n"
     ]
    }
   ],
   "source": [
    "# print all locations of restaurants\n",
    "query = session.query(Restaurants) \n",
    "for restaurant in query:\n",
    "    print(restaurant.business_address)"
   ]
  },
  {
   "cell_type": "code",
   "execution_count": 6,
   "metadata": {},
   "outputs": [
    {
     "name": "stdout",
     "output_type": "stream",
     "text": [
      "82\n"
     ]
    }
   ],
   "source": [
    "# find the total number of restaurants inside of this database\n",
    "total_restaurants = query.count()\n",
    "print(total_restaurants)"
   ]
  },
  {
   "cell_type": "code",
   "execution_count": 7,
   "metadata": {},
   "outputs": [
    {
     "name": "stdout",
     "output_type": "stream",
     "text": [
      "7\n"
     ]
    }
   ],
   "source": [
    "# find the total number of restaurants that are considered 'high risk'\n",
    "high_risk = query.filter_by(risk_category = 'High Risk').count()\n",
    "print(high_risk)"
   ]
  },
  {
   "cell_type": "code",
   "execution_count": 8,
   "metadata": {},
   "outputs": [
    {
     "name": "stdout",
     "output_type": "stream",
     "text": [
      "Stone House Calif Olive Oil\n",
      "Starbucks Coffee (Store #9743)\n",
      "Le Meridien SF Main Kitchen/Employee Cafeteria\n",
      "Le Meridien SF Park Grill Restaurant & Bar\n"
     ]
    }
   ],
   "source": [
    "# find and print the names of restaurants with the zip code 94111\n",
    "for restaurant in query:\n",
    "    if (restaurant.business_postal_code == 94111):\n",
    "        print(restaurant.business_name)"
   ]
  },
  {
   "cell_type": "code",
   "execution_count": 9,
   "metadata": {},
   "outputs": [
    {
     "name": "stdout",
     "output_type": "stream",
     "text": [
      "0530 BALBOA St\n",
      "641 Broadway St\n"
     ]
    }
   ],
   "source": [
    "# find and print the addresses of all restaurants with a inspection score less than 80\n",
    "for restaurant in query:\n",
    "    if (restaurant.inspection_score < 80):\n",
    "        print(restaurant.business_address)"
   ]
  },
  {
   "cell_type": "code",
   "execution_count": 10,
   "metadata": {},
   "outputs": [
    {
     "name": "stdout",
     "output_type": "stream",
     "text": [
      "Name: The Posh Bagel | Score: 94\n",
      "Name: EMPEROR PALACE RESTAURANT | Score: 78\n",
      "Name: Hyatt Union Square Main Kitchen | Score: 96\n",
      "Name: RICE GARDEN | Score: 92\n",
      "Name: ALVARADO ELEMENTARY SCHOOL | Score: 94\n",
      "Name: San Francisco Public Montessori | Score: 94\n",
      "Name: Deli World | Score: 88\n",
      "Name: New Princess Market | Score: 84\n",
      "Name: New San Wang Restaurant | Score: 85\n",
      "Name: Pagoda | Score: 96\n",
      "Name: Cadillac Market | Score: 84\n",
      "Name: Castro Coffee Company | Score: 96\n",
      "Name: Cantata Coffee Shop | Score: 94\n"
     ]
    }
   ],
   "source": [
    "# find and print the name and inspection scores of all restaurants considered 'moderate risk'\n",
    "for restaurant in query:\n",
    "    if (restaurant.risk_category == \"Moderate Risk\"):\n",
    "        print(f\"Name: {restaurant.business_name} | Score: {restaurant.inspection_score}\")"
   ]
  },
  {
   "cell_type": "code",
   "execution_count": 11,
   "metadata": {},
   "outputs": [
    {
     "name": "stdout",
     "output_type": "stream",
     "text": [
      "Name: Ben & Jerry's\n",
      "Violation: Improper food labeling or menu misrepresentation\n",
      "\n",
      "Name: Roxanne Cafe\n",
      "Violation: Unclean nonfood contact surfaces\n",
      "\n",
      "Name: Mixed Greens Prep Kitchen\n",
      "Violation: Unclean nonfood contact surfaces\n",
      "\n",
      "Name: Bacco\n",
      "Violation: Improper food storage\n",
      "\n",
      "Name: Theodore Roosevelt Middle School\n",
      "Violation: Low risk vermin infestation\n",
      "\n",
      "Name: Kitchen Istanbal\n",
      "Violation: Unclean or degraded floors walls or ceilings\n",
      "\n",
      "Name: Subs, Inc.\n",
      "Violation: Unclean or degraded floors walls or ceilings\n",
      "\n",
      "Name: Tortilla Kitchen\n",
      "Violation: Improper storage of equipment utensils or linens\n",
      "\n",
      "Name: Samiramis Imports\n",
      "Violation: Improper storage of equipment utensils or linens\n",
      "\n"
     ]
    }
   ],
   "source": [
    "# find and print the name and violation description of all restaurants \n",
    "# with an inspection score higher than 85, and considered a 'low risk'\n",
    "\n",
    "for restaurant in query:\n",
    "    if (restaurant.inspection_score >= 85) & (restaurant.risk_category == \"Low Risk\"):\n",
    "        print(f\"Name: {restaurant.business_name}\\nViolation: {restaurant.violation_description}\\n\")"
   ]
  },
  {
   "cell_type": "code",
   "execution_count": 12,
   "metadata": {},
   "outputs": [
    {
     "name": "stdout",
     "output_type": "stream",
     "text": [
      "ABC Super Market Inc\n",
      "641 Broadway St\n",
      "\n",
      "PastaGina\n",
      "741 Diamond St\n",
      "\n"
     ]
    }
   ],
   "source": [
    "# find and print all restaurant names and their address where there is a high risk of vermin\n",
    "\n",
    "for restaurant in query:\n",
    "    if (restaurant.violation_description == \"High risk vermin infestation\"):\n",
    "        print(f\"{restaurant.business_name}\\n{restaurant.business_address}\\n\")"
   ]
  }
 ],
 "metadata": {
  "kernelspec": {
   "display_name": "Python [conda env:PythonData]",
   "language": "python",
   "name": "conda-env-PythonData-py"
  },
  "language_info": {
   "codemirror_mode": {
    "name": "ipython",
    "version": 3
   },
   "file_extension": ".py",
   "mimetype": "text/x-python",
   "name": "python",
   "nbconvert_exporter": "python",
   "pygments_lexer": "ipython3",
   "version": "3.6.5"
  }
 },
 "nbformat": 4,
 "nbformat_minor": 2
}
