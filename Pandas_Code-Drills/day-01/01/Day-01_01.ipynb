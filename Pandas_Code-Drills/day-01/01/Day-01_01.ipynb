{
 "cells": [
  {
   "cell_type": "code",
   "execution_count": 1,
   "metadata": {},
   "outputs": [],
   "source": [
    "# import the random module\n",
    "# import the module os\n",
    "# import the module csv\n",
    "\n",
    "\n",
    "\n",
    "\n",
    "# ---- Defining a function with 2 inputs --------\n",
    "# Define a function called print_info that takes in two variables \"row\" and \"phrase\"\n",
    "# print the following: \"Current info: \", row, \":\", and phrase.\n",
    "\n",
    "\n",
    "\n",
    "# ---- Defining a function with 2 inputs --------\n",
    "# Define a function called print_prev_info that takes in two variables \"row\" and \"phrase\"\n",
    "# print the following: \"Previous info: \", row, \":\", and phrase.\n",
    "\n"
   ]
  },
  {
   "cell_type": "code",
   "execution_count": 2,
   "metadata": {},
   "outputs": [],
   "source": [
    "\n",
    "# ------ Random row selection. --------\n",
    "# Declare a variable called \"random_row\" and \n",
    "# set it equal random of 1-75\n",
    "\n"
   ]
  },
  {
   "cell_type": "code",
   "execution_count": 3,
   "metadata": {},
   "outputs": [],
   "source": [
    "# Set variable to check if we found a matching row.\n"
   ]
  },
  {
   "cell_type": "code",
   "execution_count": 4,
   "metadata": {},
   "outputs": [],
   "source": [
    "# Declare a variable csv_path and set it to Resources/Phrases.csv\n",
    "\n"
   ]
  },
  {
   "cell_type": "code",
   "execution_count": 5,
   "metadata": {},
   "outputs": [
    {
     "name": "stdout",
     "output_type": "stream",
     "text": [
      "Current info: 38: I like movies.\n",
      "Previous info: 37: I like ice cream.\n"
     ]
    }
   ],
   "source": [
    "\n",
    "# Open the CSV and label as \"csvfile\"\n",
    "\n",
    "\n",
    "    \n",
    "    # Create a for loop for each row in the csvreader.    \n",
    "    \n",
    "        # If the first item in the row equals random_row (hint: Row items in a csv are all strings.)\n",
    "            # call on the function print_info with both row and phrase.\n",
    "                # hint: phrase is the 2nd item in the row\n",
    "            # Also call on the print_prev_info with the prev_row_number and prev_phrase.\n",
    "            # Update the found variable to true when we have found a matching row\n",
    "            \n",
    "        # Define a variables called prev_row_number and set it to the current row number\n",
    "        # Define a variables called prev_phrase and set it to the current row phrase.\n",
    "\n",
    "\n",
    "\n",
    "\n",
    "    # If the random_row is never found\n",
    "    # print \"Sorry we couldn't find the row!\"\n",
    "    # and also print \"You were looking for the number \" and append random_row\n",
    "\n",
    "\n",
    "\n"
   ]
  },
  {
   "cell_type": "code",
   "execution_count": null,
   "metadata": {},
   "outputs": [],
   "source": []
  }
 ],
 "metadata": {
  "kernelspec": {
   "display_name": "Python [conda env:PythonData]",
   "language": "python",
   "name": "conda-env-PythonData-py"
  },
  "language_info": {
   "codemirror_mode": {
    "name": "ipython",
    "version": 3
   },
   "file_extension": ".py",
   "mimetype": "text/x-python",
   "name": "python",
   "nbconvert_exporter": "python",
   "pygments_lexer": "ipython3",
   "version": "3.6.5"
  }
 },
 "nbformat": 4,
 "nbformat_minor": 2
}
