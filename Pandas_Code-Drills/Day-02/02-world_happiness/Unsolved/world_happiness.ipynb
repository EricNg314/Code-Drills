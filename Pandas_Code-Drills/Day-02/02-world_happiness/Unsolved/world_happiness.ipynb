{
 "cells": [
  {
   "cell_type": "code",
   "execution_count": 1,
   "metadata": {},
   "outputs": [],
   "source": [
    "# Import Dependencies"
   ]
  },
  {
   "cell_type": "code",
   "execution_count": 2,
   "metadata": {},
   "outputs": [],
   "source": [
    "# Create reference to CSV file\n",
    "# Hint - the file path may require some extra steps..\n",
    "\n",
    "# Import the CSV into a pandas DataFrame\n"
   ]
  },
  {
   "cell_type": "code",
   "execution_count": 3,
   "metadata": {},
   "outputs": [],
   "source": [
    "# Set new index to \"Country\"\n",
    "\n",
    "# Sort the new dataframe alphabetically\n"
   ]
  },
  {
   "cell_type": "code",
   "execution_count": 4,
   "metadata": {},
   "outputs": [],
   "source": [
    "# Grab the data contained within the row of a country of your choice and the \"Happiness.Score\" column\n",
    "# Print the result as \"<country's name> happiness score for 2017 was <happiness score>\"\n"
   ]
  },
  {
   "cell_type": "code",
   "execution_count": 5,
   "metadata": {},
   "outputs": [],
   "source": [
    "# Grab all rows of data from \"Belgium\" to \"Bolivia\" and the columns from \"Happiness.Rank\" to \"Happiness.Score\"\n",
    "# Hint - in order to view more data you will need to increase the dataframe's head\n"
   ]
  },
  {
   "cell_type": "code",
   "execution_count": 6,
   "metadata": {},
   "outputs": [],
   "source": [
    "# Select all rows and only display the columns for \"Freedom\" and \"Trust..Government.Corruption.\" \n"
   ]
  },
  {
   "cell_type": "code",
   "execution_count": 7,
   "metadata": {},
   "outputs": [],
   "source": [
    "# Select all rows where the GDP per capita has a value greater than or equal to 1.6\n"
   ]
  },
  {
   "cell_type": "code",
   "execution_count": 8,
   "metadata": {},
   "outputs": [],
   "source": [
    "# Select all rows that have a happiness score greater than or equal 5 and a GDP score less than or equal 1\n"
   ]
  },
  {
   "cell_type": "code",
   "execution_count": 9,
   "metadata": {},
   "outputs": [],
   "source": [
    "# Your Turn! Play around with the data set and find some interesting correlations\n",
    "\n",
    "# an example: the life expenctancy of given countries in relation to the government trust levels\n",
    "# Which countries both trust their government and have a high life expectancy?\n",
    "# Does having high values in these columns yield a higher happiness score?\n",
    "\n",
    "# Test your assumptions! If no data is populated, change your conditions to narrow down or widen the filter"
   ]
  }
 ],
 "metadata": {
  "kernelspec": {
   "display_name": "Python [conda env:PythonData]",
   "language": "python",
   "name": "conda-env-PythonData-py"
  },
  "language_info": {
   "codemirror_mode": {
    "name": "ipython",
    "version": 3
   },
   "file_extension": ".py",
   "mimetype": "text/x-python",
   "name": "python",
   "nbconvert_exporter": "python",
   "pygments_lexer": "ipython3",
   "version": "3.6.5"
  }
 },
 "nbformat": 4,
 "nbformat_minor": 2
}
