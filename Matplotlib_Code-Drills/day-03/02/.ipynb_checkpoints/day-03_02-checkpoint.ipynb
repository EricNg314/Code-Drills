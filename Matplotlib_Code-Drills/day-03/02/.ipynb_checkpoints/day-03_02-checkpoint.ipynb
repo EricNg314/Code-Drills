{
 "cells": [
  {
   "cell_type": "code",
   "execution_count": 1,
   "metadata": {},
   "outputs": [],
   "source": [
    "# Dependencies matplotlib's pyplot, pandas, scripy's stats with lineregress\n"
   ]
  },
  {
   "cell_type": "code",
   "execution_count": 2,
   "metadata": {},
   "outputs": [
    {
     "data": {
      "text/html": [
       "<div>\n",
       "<style scoped>\n",
       "    .dataframe tbody tr th:only-of-type {\n",
       "        vertical-align: middle;\n",
       "    }\n",
       "\n",
       "    .dataframe tbody tr th {\n",
       "        vertical-align: top;\n",
       "    }\n",
       "\n",
       "    .dataframe thead th {\n",
       "        text-align: right;\n",
       "    }\n",
       "</style>\n",
       "<table border=\"1\" class=\"dataframe\">\n",
       "  <thead>\n",
       "    <tr style=\"text-align: right;\">\n",
       "      <th></th>\n",
       "      <th>DATE</th>\n",
       "      <th>output</th>\n",
       "    </tr>\n",
       "  </thead>\n",
       "  <tbody>\n",
       "    <tr>\n",
       "      <th>0</th>\n",
       "      <td>1/1/1972</td>\n",
       "      <td>58.8126</td>\n",
       "    </tr>\n",
       "    <tr>\n",
       "      <th>1</th>\n",
       "      <td>2/1/1972</td>\n",
       "      <td>65.8899</td>\n",
       "    </tr>\n",
       "    <tr>\n",
       "      <th>2</th>\n",
       "      <td>3/1/1972</td>\n",
       "      <td>73.0930</td>\n",
       "    </tr>\n",
       "    <tr>\n",
       "      <th>3</th>\n",
       "      <td>4/1/1972</td>\n",
       "      <td>77.1119</td>\n",
       "    </tr>\n",
       "    <tr>\n",
       "      <th>4</th>\n",
       "      <td>5/1/1972</td>\n",
       "      <td>83.9479</td>\n",
       "    </tr>\n",
       "  </tbody>\n",
       "</table>\n",
       "</div>"
      ],
      "text/plain": [
       "       DATE   output\n",
       "0  1/1/1972  58.8126\n",
       "1  2/1/1972  65.8899\n",
       "2  3/1/1972  73.0930\n",
       "3  4/1/1972  77.1119\n",
       "4  5/1/1972  83.9479"
      ]
     },
     "execution_count": 2,
     "metadata": {},
     "output_type": "execute_result"
    }
   ],
   "source": [
    "# For more info about the data visit:\n",
    "    # https://fred.stlouisfed.org/series/IPN31152N\n",
    "    # https://en.wikipedia.org/wiki/Industrial_production_index\n",
    "\n",
    "# Set a path to data file in resources.\n",
    "\n",
    "    \n",
    "# Loading the data into a variable named \"fd_data\".\n",
    "\n",
    "\n",
    "# Display the first 5 rows of fd_data\n"
   ]
  },
  {
   "cell_type": "code",
   "execution_count": 3,
   "metadata": {},
   "outputs": [
    {
     "data": {
      "text/html": [
       "<div>\n",
       "<style scoped>\n",
       "    .dataframe tbody tr th:only-of-type {\n",
       "        vertical-align: middle;\n",
       "    }\n",
       "\n",
       "    .dataframe tbody tr th {\n",
       "        vertical-align: top;\n",
       "    }\n",
       "\n",
       "    .dataframe thead th {\n",
       "        text-align: right;\n",
       "    }\n",
       "</style>\n",
       "<table border=\"1\" class=\"dataframe\">\n",
       "  <thead>\n",
       "    <tr style=\"text-align: right;\">\n",
       "      <th></th>\n",
       "      <th>DATE</th>\n",
       "      <th>output</th>\n",
       "      <th>Year</th>\n",
       "    </tr>\n",
       "  </thead>\n",
       "  <tbody>\n",
       "    <tr>\n",
       "      <th>0</th>\n",
       "      <td>1/1/1972</td>\n",
       "      <td>58.8126</td>\n",
       "      <td>1972</td>\n",
       "    </tr>\n",
       "    <tr>\n",
       "      <th>1</th>\n",
       "      <td>2/1/1972</td>\n",
       "      <td>65.8899</td>\n",
       "      <td>1972</td>\n",
       "    </tr>\n",
       "    <tr>\n",
       "      <th>2</th>\n",
       "      <td>3/1/1972</td>\n",
       "      <td>73.0930</td>\n",
       "      <td>1972</td>\n",
       "    </tr>\n",
       "    <tr>\n",
       "      <th>3</th>\n",
       "      <td>4/1/1972</td>\n",
       "      <td>77.1119</td>\n",
       "      <td>1972</td>\n",
       "    </tr>\n",
       "    <tr>\n",
       "      <th>4</th>\n",
       "      <td>5/1/1972</td>\n",
       "      <td>83.9479</td>\n",
       "      <td>1972</td>\n",
       "    </tr>\n",
       "  </tbody>\n",
       "</table>\n",
       "</div>"
      ],
      "text/plain": [
       "       DATE   output  Year\n",
       "0  1/1/1972  58.8126  1972\n",
       "1  2/1/1972  65.8899  1972\n",
       "2  3/1/1972  73.0930  1972\n",
       "3  4/1/1972  77.1119  1972\n",
       "4  5/1/1972  83.9479  1972"
      ]
     },
     "execution_count": 3,
     "metadata": {},
     "output_type": "execute_result"
    }
   ],
   "source": [
    "# Add a year column by converting date from fd_data.\n",
    "\n",
    "\n",
    "# Display the first 5 rows of fd_data\n"
   ]
  },
  {
   "cell_type": "code",
   "execution_count": 4,
   "metadata": {},
   "outputs": [
    {
     "data": {
      "text/html": [
       "<div>\n",
       "<style scoped>\n",
       "    .dataframe tbody tr th:only-of-type {\n",
       "        vertical-align: middle;\n",
       "    }\n",
       "\n",
       "    .dataframe tbody tr th {\n",
       "        vertical-align: top;\n",
       "    }\n",
       "\n",
       "    .dataframe thead th {\n",
       "        text-align: right;\n",
       "    }\n",
       "</style>\n",
       "<table border=\"1\" class=\"dataframe\">\n",
       "  <thead>\n",
       "    <tr style=\"text-align: right;\">\n",
       "      <th></th>\n",
       "      <th>Year</th>\n",
       "      <th>output</th>\n",
       "    </tr>\n",
       "  </thead>\n",
       "  <tbody>\n",
       "    <tr>\n",
       "      <th>0</th>\n",
       "      <td>1972</td>\n",
       "      <td>936.9214</td>\n",
       "    </tr>\n",
       "    <tr>\n",
       "      <th>1</th>\n",
       "      <td>1973</td>\n",
       "      <td>995.8159</td>\n",
       "    </tr>\n",
       "    <tr>\n",
       "      <th>2</th>\n",
       "      <td>1974</td>\n",
       "      <td>1002.9930</td>\n",
       "    </tr>\n",
       "    <tr>\n",
       "      <th>3</th>\n",
       "      <td>1975</td>\n",
       "      <td>1032.5290</td>\n",
       "    </tr>\n",
       "    <tr>\n",
       "      <th>4</th>\n",
       "      <td>1976</td>\n",
       "      <td>1025.9753</td>\n",
       "    </tr>\n",
       "  </tbody>\n",
       "</table>\n",
       "</div>"
      ],
      "text/plain": [
       "   Year     output\n",
       "0  1972   936.9214\n",
       "1  1973   995.8159\n",
       "2  1974  1002.9930\n",
       "3  1975  1032.5290\n",
       "4  1976  1025.9753"
      ]
     },
     "execution_count": 4,
     "metadata": {},
     "output_type": "execute_result"
    }
   ],
   "source": [
    "# Create a variable named \"fd_year_df\"\n",
    "    # Group output by year and sum your data.\n",
    "\n",
    "\n",
    "# Display the first 5 rows of fd_year_df\n"
   ]
  },
  {
   "cell_type": "code",
   "execution_count": 5,
   "metadata": {},
   "outputs": [
    {
     "data": {
      "text/plain": [
       "0    1972\n",
       "1    1973\n",
       "2    1974\n",
       "3    1975\n",
       "4    1976\n",
       "Name: Year, dtype: int64"
      ]
     },
     "execution_count": 5,
     "metadata": {},
     "output_type": "execute_result"
    }
   ],
   "source": [
    "# Create a list of years as \"year\" from fd_year_df\n",
    "\n",
    "\n",
    "# Display the first 5 rows of year\n"
   ]
  },
  {
   "cell_type": "code",
   "execution_count": 20,
   "metadata": {},
   "outputs": [
    {
     "data": {
      "text/plain": [
       "array([ 0,  1,  2,  3,  4,  5,  6,  7,  8,  9, 10, 11, 12, 13, 14, 15, 16,\n",
       "       17, 18, 19, 20, 21, 22, 23, 24, 25, 26, 27, 28, 29, 30, 31, 32, 33,\n",
       "       34, 35, 36, 37, 38, 39, 40, 41, 42, 43, 44, 45, 46])"
      ]
     },
     "execution_count": 20,
     "metadata": {},
     "output_type": "execute_result"
    }
   ],
   "source": [
    "# Create a variable named \"x_axis\"\n",
    "    # Set it to the list of index for matching the regression line using.\n",
    "        # Hint use np.arange\n",
    "\n",
    "\n",
    "# Display the x_axis variable\n"
   ]
  },
  {
   "cell_type": "code",
   "execution_count": 7,
   "metadata": {},
   "outputs": [
    {
     "data": {
      "text/plain": [
       "0     936.9214\n",
       "1     995.8159\n",
       "2    1002.9930\n",
       "3    1032.5290\n",
       "4    1025.9753\n",
       "Name: output, dtype: float64"
      ]
     },
     "execution_count": 7,
     "metadata": {},
     "output_type": "execute_result"
    }
   ],
   "source": [
    "# Create a variable named \"output\"\n",
    "    # Set it to the list of output from fd_year_df.\n",
    "\n",
    "\n",
    "# Display the first 5 rows of output\n"
   ]
  },
  {
   "cell_type": "code",
   "execution_count": 22,
   "metadata": {},
   "outputs": [
    {
     "data": {
      "text/plain": [
       "array([1117.00771543, 1125.25916434, 1133.51061325, 1141.76206216,\n",
       "       1150.01351108, 1158.26495999, 1166.5164089 , 1174.76785782,\n",
       "       1183.01930673, 1191.27075564, 1199.52220456, 1207.77365347,\n",
       "       1216.02510238, 1224.2765513 , 1232.52800021, 1240.77944912,\n",
       "       1249.03089803, 1257.28234695, 1265.53379586, 1273.78524477,\n",
       "       1282.03669369, 1290.2881426 , 1298.53959151, 1306.79104043,\n",
       "       1315.04248934, 1323.29393825, 1331.54538716, 1339.79683608,\n",
       "       1348.04828499, 1356.2997339 , 1364.55118282, 1372.80263173,\n",
       "       1381.05408064, 1389.30552956, 1397.55697847, 1405.80842738,\n",
       "       1414.0598763 , 1422.31132521, 1430.56277412, 1438.81422303,\n",
       "       1447.06567195, 1455.31712086, 1463.56856977, 1471.82001869,\n",
       "       1480.0714676 , 1488.32291651, 1496.57436543])"
      ]
     },
     "execution_count": 22,
     "metadata": {},
     "output_type": "execute_result"
    }
   ],
   "source": [
    "# Retrieve the slope and intercept from x_axis and output.\n",
    "\n",
    "\n",
    "# Set the fit variabel equal to the slope times the x_axis and add the intercept\n",
    "\n",
    "\n",
    "# Display the fit variable\n"
   ]
  },
  {
   "cell_type": "code",
   "execution_count": 24,
   "metadata": {},
   "outputs": [
    {
     "data": {
      "image/png": "[encoded data removed]",
      "text/plain": [
       "<Figure size 432x288 with 1 Axes>"
      ]
     },
     "metadata": {},
     "output_type": "display_data"
    }
   ],
   "source": [
    "# Graphing the output:\n",
    "\n",
    "# Create the subplot\n",
    "\n",
    "\n",
    "# Add a title\n",
    "\n",
    "\n",
    "# Set the x limit and y limit\n",
    "\n",
    "\n",
    "\n",
    "# Add labels for x and y axis\n",
    "\n",
    "\n",
    "\n",
    "# Plot the output and fit line based on year.\n",
    "\n",
    "\n",
    "\n",
    "# Add grid lines\n",
    "\n",
    "\n",
    "# Show plot\n"
   ]
  },
  {
   "cell_type": "code",
   "execution_count": null,
   "metadata": {},
   "outputs": [],
   "source": []
  }
 ],
 "metadata": {
  "kernelspec": {
   "display_name": "Python 3",
   "language": "python",
   "name": "python3"
  },
  "language_info": {
   "codemirror_mode": {
    "name": "ipython",
    "version": 3
   },
   "file_extension": ".py",
   "mimetype": "text/x-python",
   "name": "python",
   "nbconvert_exporter": "python",
   "pygments_lexer": "ipython3",
   "version": "3.6.5"
  }
 },
 "nbformat": 4,
 "nbformat_minor": 2
}
