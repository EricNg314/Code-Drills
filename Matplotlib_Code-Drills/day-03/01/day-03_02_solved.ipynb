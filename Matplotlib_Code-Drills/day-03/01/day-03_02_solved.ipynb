{
 "cells": [
  {
   "cell_type": "code",
   "execution_count": 1,
   "metadata": {},
   "outputs": [],
   "source": [
    "# Import your dependencies\n",
    "%matplotlib inline\n",
    "\n",
    "import matplotlib.pyplot as plt\n",
    "import pandas as pd\n",
    "from scipy.stats import linregress\n",
    "import numpy as np"
   ]
  },
  {
   "cell_type": "code",
   "execution_count": 2,
   "metadata": {},
   "outputs": [
    {
     "data": {
      "text/html": [
       "<div>\n",
       "<style scoped>\n",
       "    .dataframe tbody tr th:only-of-type {\n",
       "        vertical-align: middle;\n",
       "    }\n",
       "\n",
       "    .dataframe tbody tr th {\n",
       "        vertical-align: top;\n",
       "    }\n",
       "\n",
       "    .dataframe thead th {\n",
       "        text-align: right;\n",
       "    }\n",
       "</style>\n",
       "<table border=\"1\" class=\"dataframe\">\n",
       "  <thead>\n",
       "    <tr style=\"text-align: right;\">\n",
       "      <th></th>\n",
       "      <th>DATE</th>\n",
       "      <th>output</th>\n",
       "    </tr>\n",
       "  </thead>\n",
       "  <tbody>\n",
       "    <tr>\n",
       "      <th>0</th>\n",
       "      <td>1/1/1972</td>\n",
       "      <td>58.8126</td>\n",
       "    </tr>\n",
       "    <tr>\n",
       "      <th>1</th>\n",
       "      <td>2/1/1972</td>\n",
       "      <td>65.8899</td>\n",
       "    </tr>\n",
       "    <tr>\n",
       "      <th>2</th>\n",
       "      <td>3/1/1972</td>\n",
       "      <td>73.0930</td>\n",
       "    </tr>\n",
       "    <tr>\n",
       "      <th>3</th>\n",
       "      <td>4/1/1972</td>\n",
       "      <td>77.1119</td>\n",
       "    </tr>\n",
       "    <tr>\n",
       "      <th>4</th>\n",
       "      <td>5/1/1972</td>\n",
       "      <td>83.9479</td>\n",
       "    </tr>\n",
       "  </tbody>\n",
       "</table>\n",
       "</div>"
      ],
      "text/plain": [
       "       DATE   output\n",
       "0  1/1/1972  58.8126\n",
       "1  2/1/1972  65.8899\n",
       "2  3/1/1972  73.0930\n",
       "3  4/1/1972  77.1119\n",
       "4  5/1/1972  83.9479"
      ]
     },
     "execution_count": 2,
     "metadata": {},
     "output_type": "execute_result"
    }
   ],
   "source": [
    "# For more info about the data visit:\n",
    "    # https://fred.stlouisfed.org/series/IPN31152N\n",
    "    # https://en.wikipedia.org/wiki/Industrial_production_index\n",
    "\n",
    "# Set a path to data file in resources.\n",
    "frozen_desert_path = \"Resources/frozen_desert_IPN31152N.csv\"\n",
    "    \n",
    "# Loading the data into a variable named \"fd_data\".\n",
    "fd_data = pd.read_csv(frozen_desert_path)\n",
    "\n",
    "# Display the first 5 rows of fd_data\n",
    "fd_data.head()"
   ]
  },
  {
   "cell_type": "code",
   "execution_count": 3,
   "metadata": {},
   "outputs": [
    {
     "data": {
      "text/html": [
       "<div>\n",
       "<style scoped>\n",
       "    .dataframe tbody tr th:only-of-type {\n",
       "        vertical-align: middle;\n",
       "    }\n",
       "\n",
       "    .dataframe tbody tr th {\n",
       "        vertical-align: top;\n",
       "    }\n",
       "\n",
       "    .dataframe thead th {\n",
       "        text-align: right;\n",
       "    }\n",
       "</style>\n",
       "<table border=\"1\" class=\"dataframe\">\n",
       "  <thead>\n",
       "    <tr style=\"text-align: right;\">\n",
       "      <th></th>\n",
       "      <th>DATE</th>\n",
       "      <th>output</th>\n",
       "      <th>Year</th>\n",
       "    </tr>\n",
       "  </thead>\n",
       "  <tbody>\n",
       "    <tr>\n",
       "      <th>0</th>\n",
       "      <td>1/1/1972</td>\n",
       "      <td>58.8126</td>\n",
       "      <td>1972</td>\n",
       "    </tr>\n",
       "    <tr>\n",
       "      <th>1</th>\n",
       "      <td>2/1/1972</td>\n",
       "      <td>65.8899</td>\n",
       "      <td>1972</td>\n",
       "    </tr>\n",
       "    <tr>\n",
       "      <th>2</th>\n",
       "      <td>3/1/1972</td>\n",
       "      <td>73.0930</td>\n",
       "      <td>1972</td>\n",
       "    </tr>\n",
       "    <tr>\n",
       "      <th>3</th>\n",
       "      <td>4/1/1972</td>\n",
       "      <td>77.1119</td>\n",
       "      <td>1972</td>\n",
       "    </tr>\n",
       "    <tr>\n",
       "      <th>4</th>\n",
       "      <td>5/1/1972</td>\n",
       "      <td>83.9479</td>\n",
       "      <td>1972</td>\n",
       "    </tr>\n",
       "  </tbody>\n",
       "</table>\n",
       "</div>"
      ],
      "text/plain": [
       "       DATE   output  Year\n",
       "0  1/1/1972  58.8126  1972\n",
       "1  2/1/1972  65.8899  1972\n",
       "2  3/1/1972  73.0930  1972\n",
       "3  4/1/1972  77.1119  1972\n",
       "4  5/1/1972  83.9479  1972"
      ]
     },
     "execution_count": 3,
     "metadata": {},
     "output_type": "execute_result"
    }
   ],
   "source": [
    "# Add a year column by converting date from fd_data.\n",
    "fd_data['Year'] = pd.to_datetime(fd_data['DATE']).dt.year\n",
    "\n",
    "# Display the first 5 rows of fd_data\n",
    "fd_data.head()"
   ]
  },
  {
   "cell_type": "code",
   "execution_count": 4,
   "metadata": {},
   "outputs": [
    {
     "data": {
      "text/html": [
       "<div>\n",
       "<style scoped>\n",
       "    .dataframe tbody tr th:only-of-type {\n",
       "        vertical-align: middle;\n",
       "    }\n",
       "\n",
       "    .dataframe tbody tr th {\n",
       "        vertical-align: top;\n",
       "    }\n",
       "\n",
       "    .dataframe thead th {\n",
       "        text-align: right;\n",
       "    }\n",
       "</style>\n",
       "<table border=\"1\" class=\"dataframe\">\n",
       "  <thead>\n",
       "    <tr style=\"text-align: right;\">\n",
       "      <th></th>\n",
       "      <th>Year</th>\n",
       "      <th>output</th>\n",
       "    </tr>\n",
       "  </thead>\n",
       "  <tbody>\n",
       "    <tr>\n",
       "      <th>0</th>\n",
       "      <td>1972</td>\n",
       "      <td>936.9214</td>\n",
       "    </tr>\n",
       "    <tr>\n",
       "      <th>1</th>\n",
       "      <td>1973</td>\n",
       "      <td>995.8159</td>\n",
       "    </tr>\n",
       "    <tr>\n",
       "      <th>2</th>\n",
       "      <td>1974</td>\n",
       "      <td>1002.9930</td>\n",
       "    </tr>\n",
       "    <tr>\n",
       "      <th>3</th>\n",
       "      <td>1975</td>\n",
       "      <td>1032.5290</td>\n",
       "    </tr>\n",
       "    <tr>\n",
       "      <th>4</th>\n",
       "      <td>1976</td>\n",
       "      <td>1025.9753</td>\n",
       "    </tr>\n",
       "  </tbody>\n",
       "</table>\n",
       "</div>"
      ],
      "text/plain": [
       "   Year     output\n",
       "0  1972   936.9214\n",
       "1  1973   995.8159\n",
       "2  1974  1002.9930\n",
       "3  1975  1032.5290\n",
       "4  1976  1025.9753"
      ]
     },
     "execution_count": 4,
     "metadata": {},
     "output_type": "execute_result"
    }
   ],
   "source": [
    "# Create a variable named \"fd_year_df\"\n",
    "    # Group output by year and sum your data.\n",
    "fd_year_df = fd_data.groupby(fd_data['Year'], as_index=False).sum()\n",
    "\n",
    "# Display the first 5 rows of fd_year_df\n",
    "fd_year_df.head()"
   ]
  },
  {
   "cell_type": "code",
   "execution_count": 5,
   "metadata": {},
   "outputs": [
    {
     "data": {
      "text/plain": [
       "0    1972\n",
       "1    1973\n",
       "2    1974\n",
       "3    1975\n",
       "4    1976\n",
       "Name: Year, dtype: int64"
      ]
     },
     "execution_count": 5,
     "metadata": {},
     "output_type": "execute_result"
    }
   ],
   "source": [
    "# Create a list of years as \"year\" from fd_year_df\n",
    "year = fd_year_df.iloc[:, 0]\n",
    "\n",
    "year.head()"
   ]
  },
  {
   "cell_type": "code",
   "execution_count": 20,
   "metadata": {},
   "outputs": [
    {
     "data": {
      "text/plain": [
       "array([ 0,  1,  2,  3,  4,  5,  6,  7,  8,  9, 10, 11, 12, 13, 14, 15, 16,\n",
       "       17, 18, 19, 20, 21, 22, 23, 24, 25, 26, 27, 28, 29, 30, 31, 32, 33,\n",
       "       34, 35, 36, 37, 38, 39, 40, 41, 42, 43, 44, 45, 46])"
      ]
     },
     "execution_count": 20,
     "metadata": {},
     "output_type": "execute_result"
    }
   ],
   "source": [
    "# Create a variable named \"x_axis\"\n",
    "    # Set it to the list of index for matching the regression line using.\n",
    "        # Hint use np.arange\n",
    "x_axis = np.arange(0,year.count(),1)\n",
    "\n",
    "# Display the first 5 rows of x_axis\n",
    "x_axis"
   ]
  },
  {
   "cell_type": "code",
   "execution_count": 7,
   "metadata": {},
   "outputs": [
    {
     "data": {
      "text/plain": [
       "0     936.9214\n",
       "1     995.8159\n",
       "2    1002.9930\n",
       "3    1032.5290\n",
       "4    1025.9753\n",
       "Name: output, dtype: float64"
      ]
     },
     "execution_count": 7,
     "metadata": {},
     "output_type": "execute_result"
    }
   ],
   "source": [
    "# Create a variable named \"output\"\n",
    "    # Set it to the list of output from fd_year_df.\n",
    "\n",
    "output = fd_year_df.iloc[:, 1]\n",
    "\n",
    "# Display the first 5 rows of output\n",
    "output.head()"
   ]
  },
  {
   "cell_type": "code",
   "execution_count": 8,
   "metadata": {},
   "outputs": [],
   "source": [
    "# Retrieve the slope and intercept from x_axis and output.\n",
    "(slope, intercept, _, _, _) = linregress(x_axis, output)\n",
    "fit = slope * x_axis + intercept"
   ]
  },
  {
   "cell_type": "code",
   "execution_count": 21,
   "metadata": {},
   "outputs": [
    {
     "data": {
      "image/png": "[encoded data removed]",
      "text/plain": [
       "<Figure size 432x288 with 1 Axes>"
      ]
     },
     "metadata": {},
     "output_type": "display_data"
    }
   ],
   "source": [
    "fig, ax = plt.subplots()\n",
    "\n",
    "fig.suptitle(\"Frozen Desert Industrial Production Production Index\", fontsize=16, fontweight=\"bold\")\n",
    "\n",
    "ax.set_xlim(year.min(),year.max())\n",
    "ax.set_ylim(0, 2000)\n",
    "\n",
    "ax.set_xlabel(\"Year\")\n",
    "ax.set_ylabel(\"Index 2012=100, Not Seasonally Adjusted\")\n",
    "\n",
    "ax.plot(year, output, linewidth=0, marker='o')\n",
    "ax.plot(year, fit, 'b--')\n",
    "\n",
    "ax.grid(b=True, which='major', color='lightgray', linestyle='-')\n",
    "\n",
    "plt.show()"
   ]
  },
  {
   "cell_type": "code",
   "execution_count": 10,
   "metadata": {},
   "outputs": [],
   "source": [
    "# # Creating bins for the goals\n",
    "# bins = [0, 1000, 2000, 3000, 4000, 5000, 999999999]\n",
    "\n",
    "# group_names = [\"<1k\", \"2k\", \"3k\", \"4k\", \"5k\", \"5k+\"]\n",
    "\n",
    "# ks_data[\"Goal Group\"] = pd.cut(ks_data[\"goal\"], bins, labels = group_names)\n",
    "\n",
    "# ks_data.head()"
   ]
  },
  {
   "cell_type": "code",
   "execution_count": 11,
   "metadata": {},
   "outputs": [],
   "source": [
    "# ks_data = ks_data[ks_data[\"state\"] != 'undefined']\n"
   ]
  },
  {
   "cell_type": "code",
   "execution_count": 12,
   "metadata": {},
   "outputs": [],
   "source": [
    "# ks_data[\"state\"].unique()"
   ]
  },
  {
   "cell_type": "code",
   "execution_count": 13,
   "metadata": {},
   "outputs": [],
   "source": [
    "# # Creating bins for the goals\n",
    "# bins = [0, 1000, 2000, 3000, 4000, 5000, 999999999]\n",
    "\n",
    "# group_names = [\"<1k\", \"2k\", \"3k\", \"4k\", \"5k\", \"5k+\"]\n",
    "\n",
    "# ks_data[\"Goal Group\"] = pd.cut(ks_data[\"goal\"], bins, labels = group_names)"
   ]
  },
  {
   "cell_type": "code",
   "execution_count": null,
   "metadata": {},
   "outputs": [],
   "source": []
  }
 ],
 "metadata": {
  "kernelspec": {
   "display_name": "Python 3",
   "language": "python",
   "name": "python3"
  },
  "language_info": {
   "codemirror_mode": {
    "name": "ipython",
    "version": 3
   },
   "file_extension": ".py",
   "mimetype": "text/x-python",
   "name": "python",
   "nbconvert_exporter": "python",
   "pygments_lexer": "ipython3",
   "version": "3.6.5"
  }
 },
 "nbformat": 4,
 "nbformat_minor": 2
}
