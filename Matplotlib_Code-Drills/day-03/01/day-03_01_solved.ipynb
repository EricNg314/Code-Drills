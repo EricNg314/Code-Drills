{
 "cells": [
  {
   "cell_type": "code",
   "execution_count": 1,
   "metadata": {},
   "outputs": [
    {
     "ename": "ModuleNotFoundError",
     "evalue": "No module named 'scripy'",
     "output_type": "error",
     "traceback": [
      "\u001b[1;31m---------------------------------------------------------------------------\u001b[0m",
      "\u001b[1;31mModuleNotFoundError\u001b[0m                       Traceback (most recent call last)",
      "\u001b[1;32m<ipython-input-1-cc9d3572f13a>\u001b[0m in \u001b[0;36m<module>\u001b[1;34m()\u001b[0m\n\u001b[0;32m      2\u001b[0m \u001b[1;32mimport\u001b[0m \u001b[0mmatplotlib\u001b[0m\u001b[1;33m.\u001b[0m\u001b[0mpyplot\u001b[0m \u001b[1;32mas\u001b[0m \u001b[0mplt\u001b[0m\u001b[1;33m\u001b[0m\u001b[0m\n\u001b[0;32m      3\u001b[0m \u001b[1;32mimport\u001b[0m \u001b[0mpandas\u001b[0m \u001b[1;32mas\u001b[0m \u001b[0mpd\u001b[0m\u001b[1;33m\u001b[0m\u001b[0m\n\u001b[1;32m----> 4\u001b[1;33m \u001b[1;32mimport\u001b[0m \u001b[0mscripy\u001b[0m\u001b[1;33m.\u001b[0m\u001b[0mstats\u001b[0m \u001b[1;32mas\u001b[0m \u001b[0msem\u001b[0m\u001b[1;33m\u001b[0m\u001b[0m\n\u001b[0m\u001b[0;32m      5\u001b[0m \u001b[1;31m# from scipy.stats import sem\u001b[0m\u001b[1;33m\u001b[0m\u001b[1;33m\u001b[0m\u001b[0m\n",
      "\u001b[1;31mModuleNotFoundError\u001b[0m: No module named 'scripy'"
     ]
    }
   ],
   "source": [
    "# Dependencies matplotlib's pyplot, pandas, scripy's stats\n",
    "import matplotlib.pyplot as plt\n",
    "import pandas as pd\n",
    "# import scripy.stats as sem\n",
    "# from scipy.stats import sem"
   ]
  },
  {
   "cell_type": "code",
   "execution_count": null,
   "metadata": {},
   "outputs": [],
   "source": [
    "# Load data as diaper_data\n",
    "diaper_data = pd.read_csv(\"Resources/happiness_diapers.csv\")\n",
    "\n",
    "# Display the first 10 rows of diaper_data\n",
    "diaper_data.head(10)"
   ]
  },
  {
   "cell_type": "code",
   "execution_count": null,
   "metadata": {},
   "outputs": [],
   "source": [
    "# Create separate dataframes of each diaper type.\n",
    "    # Name the dataframes diaper_type_a, diaper_type_b, diaper_type_c\n",
    "diaper_type_a = diaper_data.loc[diaper_data['Diaper Type'] == 'A']\n",
    "diaper_type_b = diaper_data.loc[diaper_data['Diaper Type'] == 'B']\n",
    "diaper_type_c = diaper_data.loc[diaper_data['Diaper Type'] == 'C']\n",
    "\n",
    "# Display the first 5 rows of diaper_type_a\n",
    "diaper_type_a.head()"
   ]
  },
  {
   "cell_type": "code",
   "execution_count": null,
   "metadata": {},
   "outputs": [],
   "source": [
    "# Set samples as a list containing the list of happiness from diaper_type_a, diaper_type_b, and diaper_type_c\n",
    "samples = [diaper_type_a['Happiness Rating'],diaper_type_b['Happiness Rating'],diaper_type_c['Happiness Rating']]\n",
    "\n",
    "# Display samples\n",
    "samples"
   ]
  },
  {
   "cell_type": "code",
   "execution_count": null,
   "metadata": {},
   "outputs": [],
   "source": [
    "# Create a variable means and set it to a list of calculated means\n",
    "means = [s.mean() for s in samples]\n",
    "\n",
    "means"
   ]
  },
  {
   "cell_type": "code",
   "execution_count": null,
   "metadata": {},
   "outputs": [],
   "source": [
    "# Create a variable sem and set it to a list of calculated standard error on means\n",
    "sem = [s.sem() for s in samples]\n",
    "\n",
    "# Display the standard error on means (sem)\n",
    "sem"
   ]
  },
  {
   "cell_type": "code",
   "execution_count": null,
   "metadata": {},
   "outputs": [],
   "source": [
    "# Plot sample means with error bars\n",
    "# Create the fig as ax subplot\n",
    "fig, ax = plt.subplots()\n",
    "\n",
    "# Add errorbars to ax with the following:\n",
    "    # Label the x-axis as [\"A\", \"B\", \"C\"], \n",
    "    # Add the means\n",
    "    # y error as sem\n",
    "    # Add a label to the data points\n",
    "ax.errorbar([\"A\", \"B\", \"C\"], means, yerr=sem, fmt=\"o\", color=\"b\",\n",
    "            alpha=1, label=\"Mean of Happiness(1-10)\")\n",
    "\n",
    "# Organize the x axis\n",
    "ax.set_xlim(-0.5, len(means)-0.5)\n",
    "\n",
    "# Update the x and y axis labels\n",
    "ax.set_xlabel(\"Sample Letter\")\n",
    "ax.set_ylabel(\"Mean of Median House Prices\")\n",
    "\n",
    "# Show the legend.\n",
    "plt.legend(loc=\"best\", fontsize=\"small\", fancybox=True)\n",
    "\n",
    "# Show plot.\n",
    "plt.show()"
   ]
  },
  {
   "cell_type": "code",
   "execution_count": null,
   "metadata": {},
   "outputs": [],
   "source": []
  },
  {
   "cell_type": "code",
   "execution_count": null,
   "metadata": {},
   "outputs": [],
   "source": []
  }
 ],
 "metadata": {
  "kernelspec": {
   "display_name": "Python 3",
   "language": "python",
   "name": "python3"
  },
  "language_info": {
   "codemirror_mode": {
    "name": "ipython",
    "version": 3
   },
   "file_extension": ".py",
   "mimetype": "text/x-python",
   "name": "python",
   "nbconvert_exporter": "python",
   "pygments_lexer": "ipython3",
   "version": "3.6.5"
  }
 },
 "nbformat": 4,
 "nbformat_minor": 2
}
