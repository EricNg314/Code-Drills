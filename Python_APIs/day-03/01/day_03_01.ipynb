{
 "cells": [
  {
   "cell_type": "code",
   "execution_count": 1,
   "metadata": {},
   "outputs": [],
   "source": [
    "# Import necessary dependencies to make API requests\n",
    "import pandas as pd\n",
    "\n",
    "\n",
    "# Import your API key\n"
   ]
  },
  {
   "cell_type": "code",
   "execution_count": 2,
   "metadata": {},
   "outputs": [],
   "source": [
    "# Set a endpoint url with a target address of our campus\n",
    "# 160 Spear St. San Francisco, CA 94105\n"
   ]
  },
  {
   "cell_type": "code",
   "execution_count": 3,
   "metadata": {},
   "outputs": [],
   "source": [
    "# Run a request to the endpoint and convert the result to JSON\n",
    "\n",
    "# Print the JSON\n"
   ]
  },
  {
   "cell_type": "code",
   "execution_count": 4,
   "metadata": {},
   "outputs": [],
   "source": [
    "# Extract the latitude and longitude and store them in a variable named \"campus\"\n",
    "\n",
    "# Print the latitude and longitude of our campus\n"
   ]
  },
  {
   "cell_type": "code",
   "execution_count": 5,
   "metadata": {},
   "outputs": [],
   "source": [
    "# Set the base url for the google places search API\n",
    "\n",
    "# Set the parameters so that the location is our campus\n",
    "# and searching for Walgreens pharmacies by distance\n",
    "\n",
    "\n",
    "# Run a request using the parameters\n",
    "\n",
    "# Print the response url\n"
   ]
  },
  {
   "cell_type": "code",
   "execution_count": 6,
   "metadata": {},
   "outputs": [],
   "source": [
    "# Convert the response to JSON\n",
    "\n",
    "# Print the newly converted JSON object in pretty format\n"
   ]
  },
  {
   "cell_type": "code",
   "execution_count": 7,
   "metadata": {},
   "outputs": [],
   "source": [
    "# Print the address of the closest Walgreens to campus\n"
   ]
  },
  {
   "cell_type": "code",
   "execution_count": 8,
   "metadata": {},
   "outputs": [],
   "source": [
    "# Read the stores.csv as a pandas dataframe\n"
   ]
  },
  {
   "cell_type": "code",
   "execution_count": 9,
   "metadata": {},
   "outputs": [],
   "source": [
    "# Set up additional columns to hold information for address and rating\n"
   ]
  },
  {
   "cell_type": "code",
   "execution_count": 10,
   "metadata": {},
   "outputs": [],
   "source": [
    "# Create new parameters so that you are now searching for stores\n",
    "\n",
    "\n",
    "# Use iterrows to iterate through the dataframe and add keywords to the new parameter\n",
    "\n",
    "\n",
    "  \n",
    "    # Assemble the url and make an API request\n",
    "\n",
    "    \n",
    "    # Store the response results in the dataframe\n",
    "\n",
    "    \n",
    "# Display the dataframe with newly added data\n"
   ]
  }
 ],
 "metadata": {
  "kernelspec": {
   "display_name": "Python [conda env:PythonData]",
   "language": "python",
   "name": "conda-env-PythonData-py"
  },
  "language_info": {
   "codemirror_mode": {
    "name": "ipython",
    "version": 3
   },
   "file_extension": ".py",
   "mimetype": "text/x-python",
   "name": "python",
   "nbconvert_exporter": "python",
   "pygments_lexer": "ipython3",
   "version": "3.6.5"
  }
 },
 "nbformat": 4,
 "nbformat_minor": 2
}
