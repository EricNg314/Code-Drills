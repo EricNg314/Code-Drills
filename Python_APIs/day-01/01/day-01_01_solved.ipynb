{
 "cells": [
  {
   "cell_type": "code",
   "execution_count": 6,
   "metadata": {},
   "outputs": [],
   "source": [
    "# Import your dependencies requests and json\n",
    "import requests\n",
    "import json"
   ]
  },
  {
   "cell_type": "code",
   "execution_count": 7,
   "metadata": {},
   "outputs": [],
   "source": [
    "# Create a variable called query_url\n",
    "    # Set it to \"https://deckofcardsapi.com/api/deck/new/shuffle/?deck_count=1\"\n",
    "query_url = \"https://deckofcardsapi.com/api/deck/new/shuffle/?deck_count=1\""
   ]
  },
  {
   "cell_type": "code",
   "execution_count": 8,
   "metadata": {},
   "outputs": [
    {
     "name": "stdout",
     "output_type": "stream",
     "text": [
      "<Response [200]>\n"
     ]
    }
   ],
   "source": [
    "# Print the response object to the terminal\n",
    "print(requests.get(query_url))"
   ]
  },
  {
   "cell_type": "code",
   "execution_count": 9,
   "metadata": {},
   "outputs": [
    {
     "name": "stdout",
     "output_type": "stream",
     "text": [
      "{'deck_id': 'kdniihw7h0ua', 'shuffled': True, 'remaining': 52, 'success': True}\n"
     ]
    }
   ],
   "source": [
    "# Convert the data into a json and print\n",
    "print(requests.get(query_url).json())"
   ]
  },
  {
   "cell_type": "code",
   "execution_count": 11,
   "metadata": {},
   "outputs": [
    {
     "name": "stdout",
     "output_type": "stream",
     "text": [
      "{\n",
      "    \"deck_id\": \"ea8xububu0ga\",\n",
      "    \"remaining\": 52,\n",
      "    \"shuffled\": true,\n",
      "    \"success\": true\n",
      "}\n"
     ]
    }
   ],
   "source": [
    "# Print the JSON output in a pretty format.\n",
    "response = requests.get(query_url).json()\n",
    "print(json.dumps(response, indent=4, sort_keys=True))"
   ]
  },
  {
   "cell_type": "code",
   "execution_count": 16,
   "metadata": {},
   "outputs": [
    {
     "name": "stdout",
     "output_type": "stream",
     "text": [
      "ea8xububu0ga\n",
      "52\n"
     ]
    }
   ],
   "source": [
    "# Print only the deck_id from response.\n",
    "print(response['deck_id'])\n",
    "\n",
    "# Print only the 'remaining' from response.\n",
    "print(response['remaining'])\n"
   ]
  }
 ],
 "metadata": {
  "kernelspec": {
   "display_name": "Python 3",
   "language": "python",
   "name": "python3"
  },
  "language_info": {
   "codemirror_mode": {
    "name": "ipython",
    "version": 3
   },
   "file_extension": ".py",
   "mimetype": "text/x-python",
   "name": "python",
   "nbconvert_exporter": "python",
   "pygments_lexer": "ipython3",
   "version": "3.6.5"
  }
 },
 "nbformat": 4,
 "nbformat_minor": 2
}
