{
 "cells": [
  {
   "cell_type": "code",
   "execution_count": 16,
   "metadata": {},
   "outputs": [],
   "source": [
    "# Dependencies json, requests, and your config file for api_key\n",
    "import json\n",
    "import requests\n",
    "from config import api_key"
   ]
  },
  {
   "cell_type": "code",
   "execution_count": 19,
   "metadata": {},
   "outputs": [
    {
     "data": {
      "text/plain": [
       "'https://newsapi.org/v2/top-headlines?country=us&apiKey=api_key'"
      ]
     },
     "execution_count": 19,
     "metadata": {},
     "output_type": "execute_result"
    }
   ],
   "source": [
    "# Set the url and query information for the country of US\n",
    "url = \"https://newsapi.org/v2/top-headlines?\"\n",
    "country = \"us\"\n",
    "\n",
    "# Build query URL with the country query.\n",
    "query_url = url + \"country=\" + country + \"&apiKey=\" + 'api_key'\n",
    "query_url"
   ]
  },
  {
   "cell_type": "code",
   "execution_count": 18,
   "metadata": {},
   "outputs": [
    {
     "name": "stdout",
     "output_type": "stream",
     "text": [
      "The news API responded with: {'status': 'ok', 'totalResults': 20, 'articles': [{'source': {'id': 'cnn', 'name': 'CNN'}, 'author': 'Analysis by Stephen Collinson, CNN', 'title': 'Legal stunner fails to fell Trump but reckoning could be coming', 'description': 'After one day where truth and facts triumphed, America is back to its alternative realities.', 'url': 'https://www.cnn.com/2018/08/23/politics/donald-trump-manafort-cohen-republicans-politics-fallout/index.html', 'urlToImage': 'https://cdn.cnn.com/cnnnext/dam/assets/180821220630-lanny-davis-michael-cohen-info-mueller-cuomo-super-tease.jpg', 'publishedAt': '2018-08-23T05:11:00Z'}, {'source': {'id': 'the-washington-post', 'name': 'The Washington Post'}, 'author': 'https://www.facebook.com/sarah.kaplan.31', 'title': 'Mom was a Neanderthal. Dad was something else entirely. Meet the strangest hybrid in human history.', 'description': 'This fossil child is the first direct evidence of prehistoric hanky panky among early humans, scientists say.', 'url': 'https://www.washingtonpost.com/science/2018/08/22/mom-was-neanderthal-dad-was-something-else-entirely-meet-strangest-hybrid-human-history/', 'urlToImage': 'https://www.washingtonpost.com/resizer/msrqkJiKSEM2Vr7Bvcd83fAGI0o=/1484x0/arc-anglerfish-washpost-prod-washpost.s3.amazonaws.com/public/J4U7S7XB2NCCDNPGE4QTVFC2KM.jpg', 'publishedAt': '2018-08-23T04:21:04Z'}, {'source': {'id': 'bleacher-report', 'name': 'Bleacher Report'}, 'author': 'Matt Hayes', 'title': \"Urban Meyer's Suspension Shows Ohio State Values Winning More Than Morality\", 'description': 'We now finally know what happens at Ohio State University when you reach the intersection of integrity and morality.    You choose winning football games...', 'url': 'https://bleacherreport.com/articles/2792270-urban-meyers-suspension-shows-ohio-state-values-winning-more-than-morality', 'urlToImage': 'https://img.bleacherreport.net/img/images/photos/003/759/591/hi-res-457528e30c8164d9bae7f01edab1dfae_crop_exact.jpg?w=1200&h=1200&q=75', 'publishedAt': '2018-08-23T04:10:45Z'}, {'source': {'id': 'cnbc', 'name': 'CNBC'}, 'author': 'Huileng Tan', 'title': 'New US tariffs kick in on $16 billion of Chinese goods', 'description': \"A new round of U.S. tariffs on $16 billion worth of Chinese imports has kicked in, even as officials from the world's two largest economies meet for negotiations in Washington,\\xa0as no easy compromise from the talks are expected.\", 'url': 'https://www.cnbc.com/2018/08/23/us-china-trade-war-new-round-of-american-tariffs-on-chinese-imports.html', 'urlToImage': 'https://fm.cnbc.com/applications/cnbc.com/resources/img/editorial/2018/07/11/105323219-1531313219486rtx6aosz.1910x1000.jpg', 'publishedAt': '2018-08-23T04:04:31Z'}, {'source': {'id': None, 'name': 'Hollywoodlife.com'}, 'author': None, 'title': 'Ben Affleck Heading Back To Rehab After Ex Jennifer Garner Allegedly Staged An Intervention', 'description': None, 'url': 'https://hollywoodlife.com/2018/08/22/ben-affleck-rehab-jennifer-garner-intervention-treatment/', 'urlToImage': None, 'publishedAt': '2018-08-23T04:02:38Z'}, {'source': {'id': 'the-new-york-times', 'name': 'The New York Times'}, 'author': 'http://www.nytimes.com/by/damien-cave, https://www.nytimes.com/by/isabella-kwai', 'title': 'Australian Prime Minister Dealt Death Blow as Own Party Withdraws Support', 'description': 'An effort by Prime Minister Malcolm Turnbull to stave off a leadership challenge weakened Thursday as two rivals sought to replace him.', 'url': 'https://www.nytimes.com/2018/08/22/world/australia/turnbull-dutton-morrison-prime-minister-challenge.html', 'urlToImage': 'https://static01.nyt.com/images/2018/08/24/world/24australia-1/24australia-1-facebookJumbo.jpg', 'publishedAt': '2018-08-23T03:54:42Z'}, {'source': {'id': 'the-new-york-times', 'name': 'The New York Times'}, 'author': 'http://nytimes.com/by/erica-l-green', 'title': 'Betsy DeVos Is Said to Weigh Letting School Districts Use Federal Funds to Buy Guns', 'description': 'The Education Department may let school districts use money meant for academic enrichment to buy guns, officials with knowledge of the plan say.', 'url': 'https://www.nytimes.com/2018/08/22/us/politics/betsy-devos-guns.html', 'urlToImage': 'https://static01.nyt.com/images/2018/08/23/us/politics/23dc-guns-print/00dc-guns1-facebookJumbo.jpg', 'publishedAt': '2018-08-23T02:33:45Z'}, {'source': {'id': 'cnn', 'name': 'CNN'}, 'author': None, 'title': 'Man found guilty of murder of Chicago student who was gunned down in 2013', 'description': None, 'url': 'https://www.cnn.com/2018/08/22/us/hadiya-pendleton-murder-verdict/index.html', 'urlToImage': None, 'publishedAt': '2018-08-23T02:13:00Z'}, {'source': {'id': 'cnn', 'name': 'CNN'}, 'author': 'Mohammed Tawfeeq and Steve Almasy, CNN', 'title': 'Abu Bakr al-Baghdadi purportedly releases message saying ISIS losses are test from Allah', 'description': 'For the first time in almost a year, ISIS has released what it says is a new audio message from its leader Abu Bakr al-Baghdadi.', 'url': 'https://www.cnn.com/2018/08/22/middleeast/isis-leader-abu-bakr-al-baghdadi-recording/index.html', 'urlToImage': 'https://cdn.cnn.com/cnnnext/dam/assets/171019163726-where-is-isis-leader-abu-bakr-al-baghdadi-pkg-paton-walsh-00010229-super-tease.jpg', 'publishedAt': '2018-08-23T02:10:51Z'}, {'source': {'id': 'fox-news', 'name': 'Fox News'}, 'author': 'Samuel Chamberlain', 'title': 'Man who sold ammo to Las Vegas massacre gunman indicted by feds', 'description': 'An Arizona man who sold ammunition to Las Vegas massacre gunman Stephen Paddock was indicted by a federal grand jury Wednesday on one count of manufacturing ammunition without a license.', 'url': 'http://www.foxnews.com/us/2018/08/22/man-who-sold-ammo-to-las-vegas-massacre-gunman-indicted-by-feds.html', 'urlToImage': 'http://a57.foxnews.com/images.foxnews.com/content/fox-news/us/2018/08/22/man-who-sold-ammo-to-las-vegas-massacre-gunman-indicted-by-feds/_jcr_content/par/featured_image/media-0.img.jpg/0/0/1534983371147.jpg?ve=1', 'publishedAt': '2018-08-23T00:52:53Z'}, {'source': {'id': None, 'name': 'Yahoo.com'}, 'author': None, 'title': \"Who Is Chris Watts' Mistress? New Details On His Affair With A Coworker Before He Murdered His Wife And Kids\", 'description': None, 'url': 'https://www.yahoo.com/lifestyle/chris-watts-apos-mistress-details-201545295.html', 'urlToImage': None, 'publishedAt': '2018-08-23T00:28:14Z'}, {'source': {'id': 'the-new-york-times', 'name': 'The New York Times'}, 'author': 'http://www.nytimes.com/by/mitch-smith', 'title': 'Killing of Mollie Tibbetts in Iowa Inflames Immigration Debate', 'description': 'The killing of an Iowa college student by a man identified as an undocumented Mexican immigrant has added new fuel to the debate over illegal immigration.', 'url': 'https://www.nytimes.com/2018/08/22/us/mollie-tibbetts-cristhian-rivera.html', 'urlToImage': 'https://static01.nyt.com/images/2018/08/23/us/23tibbetts-01/23tibbetts-01-facebookJumbo.jpg', 'publishedAt': '2018-08-22T23:35:37Z'}, {'source': {'id': None, 'name': 'Bbc.com'}, 'author': 'https://www.facebook.com/bbcnews', 'title': \"Scottish government warns against 'no deal' Brexit\", 'description': \"Scotland's Brexit secretary was speaking ahead of the UK government setting out its planning for the scenario.\", 'url': 'https://www.bbc.com/news/uk-scotland-scotland-politics-45275439', 'urlToImage': 'https://ichef.bbci.co.uk/news/1024/branded_news/5DB8/production/_103129932_043459364.jpg', 'publishedAt': '2018-08-22T23:30:35Z'}, {'source': {'id': 'the-wall-street-journal', 'name': 'The Wall Street Journal'}, 'author': 'The Editorial Board', 'title': 'Is Kavanaugh Legitimate?', 'description': 'Senate Democrats now want to deny Trump the appointment power.', 'url': 'https://www.wsj.com/articles/is-kavanaugh-legitimate-1534979653', 'urlToImage': 'https://si.wsj.net/public/resources/images/B3-BM683_2legit_SOC_20180822183457.jpg', 'publishedAt': '2018-08-22T23:16:33Z'}, {'source': {'id': 'cnn', 'name': 'CNN'}, 'author': None, 'title': 'Charges against Duncan Hunter threaten his support from military community', 'description': None, 'url': 'https://www.cnn.com/2018/08/22/politics/duncan-hunter-military-support/index.html', 'urlToImage': None, 'publishedAt': '2018-08-22T22:48:00Z'}, {'source': {'id': 'cbs-news', 'name': 'CBS News'}, 'author': 'Carter Evans', 'title': 'Seattle choked with smoke and ash as western wildfires rage', 'description': 'The city is experiencing collateral damage from a horrific start to the fire season, with wildfires burning from California to Canada', 'url': 'https://www.cbsnews.com/news/seattle-choked-with-smoke-and-ash-as-western-wildfires-rage/', 'urlToImage': 'https://cbsnews1.cbsistatic.com/hub/i/r/2018/08/22/5c7ec9d5-f132-4300-8481-df205c283459/thumbnail/1200x630/27fd4406077f638e00fc340366869e4a/aed-20180815-wed0087-ca-wildfires-vo-sot-smoke-blankets-seattle-fd-frame-288.jpg', 'publishedAt': '2018-08-22T22:46:00Z'}, {'source': {'id': 'the-new-york-times', 'name': 'The New York Times'}, 'author': 'https://www.nytimes.com/by/sheera-frenkel, http://www.nytimes.com/by/jonathan-martin', 'title': 'Democratic Party Says It Thwarted Attempted Hack of Voter Database', 'description': 'The Democratic National Committee contacted the F.B.I. this week about a fake login page that could harvest passwords and other credentials.', 'url': 'https://www.nytimes.com/2018/08/22/technology/democratic-party-says-it-has-thwarted-attempted-hack-of-voter-database.html', 'urlToImage': 'https://static01.nyt.com/images/2018/08/23/business/23hack-print/23hack01-facebookJumbo.jpg', 'publishedAt': '2018-08-22T22:18:45Z'}, {'source': {'id': None, 'name': 'Latimes.com'}, 'author': 'Richard Winton', 'title': 'Actor accusing Asia Argento of sex abuse says trauma resurfaced when she accused Harvey Weinstein of rape', 'description': 'A young actor who accused Asia Argento of having sex with him while he was underage said his trauma resurfaced last year when the Italian actress made her own rape accusation against Producer Harvey Weinstein.', 'url': 'http://www.latimes.com/local/lanow/la-me-jimmy-bennett-argento-20180822-story.html', 'urlToImage': 'http://www.latimes.com/resizer/Gubey8YIDj3SUkDU3i3xnld04Dw=/1200x0/arc-anglerfish-arc2-prod-tronc.s3.amazonaws.com/public/NLPYRZSKGFAGREZLUSR7QCUWGQ.jpg', 'publishedAt': '2018-08-22T21:53:21Z'}, {'source': {'id': 'time', 'name': 'Time'}, 'author': 'Mahita Gajanan', 'title': 'Cancun Travel Warning Issued After Bodies Were Found in a Taxi, a Hammock and Bags', 'description': '', 'url': 'http://time.com/5375156/cancun-eight-bodies-mexico-travel-advisory/', 'urlToImage': 'https://timedotcom.files.wordpress.com/2018/08/mexico-travel-cancun-bodies.jpg?quality=85', 'publishedAt': '2018-08-22T21:24:56Z'}, {'source': {'id': 'the-washington-post', 'name': 'The Washington Post'}, 'author': 'https://www.facebook.com/dlamothe', 'title': \"'Supreme courage': US airman John Chapman posthumously awarded the Medal of Honor\", 'description': 'Chapman died in a 2002 battle in Afghanistan, and received the Medal of Honor after a lengthy Air Force investigation.', 'url': 'https://www.washingtonpost.com/news/checkpoint/wp/2018/08/21/john-chapman-died-trying-to-rescue-a-navy-seal-now-hell-receive-the-medal-of-honor/', 'urlToImage': 'https://www.washingtonpost.com/resizer/Q1K_Uspg2CkjmyKq7yfwfie8fTQ=/1484x0/arc-anglerfish-washpost-prod-washpost.s3.amazonaws.com/public/TE5CZOMZ44YLZFMOKRO3NAD3HA.jpg', 'publishedAt': '2018-08-22T20:56:01Z'}]}.\n"
     ]
    }
   ],
   "source": [
    "# Get news data using requests\n",
    "news_response = requests.get(query_url)\n",
    "news_json = news_response.json()\n",
    "\n",
    "# Test your api call using by printing your api data.\n",
    "print(f\"The news API responded with: {news_json}.\")"
   ]
  },
  {
   "cell_type": "code",
   "execution_count": null,
   "metadata": {},
   "outputs": [],
   "source": []
  },
  {
   "cell_type": "code",
   "execution_count": null,
   "metadata": {},
   "outputs": [],
   "source": []
  }
 ],
 "metadata": {
  "kernelspec": {
   "display_name": "Python 3",
   "language": "python",
   "name": "python3"
  },
  "language_info": {
   "codemirror_mode": {
    "name": "ipython",
    "version": 3
   },
   "file_extension": ".py",
   "mimetype": "text/x-python",
   "name": "python",
   "nbconvert_exporter": "python",
   "pygments_lexer": "ipython3",
   "version": "3.6.5"
  }
 },
 "nbformat": 4,
 "nbformat_minor": 2
}
